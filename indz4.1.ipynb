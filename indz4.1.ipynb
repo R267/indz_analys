{
  "cells": [
    {
      "cell_type": "markdown",
      "metadata": {
        "id": "view-in-github",
        "colab_type": "text"
      },
      "source": [
        "<a href=\"https://colab.research.google.com/github/R267/indz_analys/blob/main/indz4.1.ipynb\" target=\"_parent\"><img src=\"https://colab.research.google.com/assets/colab-badge.svg\" alt=\"Open In Colab\"/></a>"
      ]
    },
    {
      "metadata": {
        "id": "WRXlSF9bxJqf"
      },
      "cell_type": "markdown",
      "source": [
        "<h2><center>Незбалансована класифікація</center></h2>\n",
        "<div style=\"font-family:verdana; word-spacing:1.5px;\">\n",
        "Незбалансована класифікація передбачає розробку прогнозних моделей на наборах даних класифікації, які мають серйозний дисбаланс класів. Проблема роботи з незбалансованими наборами даних полягає в тому, що більшість методів машинного навчання ігноруватимуть і, у свою чергу, матимуть низьку продуктивність на меншинному класі, хоча зазвичай найважливішою є продуктивність на меншинному класі.\n",
        "</div>    \n",
        "\n",
        "![image.png](attachment:image.png)\n",
        "\n",
        "\n",
        "<p style=\"font-family:verdana; word-spacing:1.5px;font-size:15px\">Посилання на блокнот для методів надмірної та меншої вибірки для незбалансованої класифікації:</p>\n",
        "<a href='https://www.kaggle.com/ashrafkhan94/imbalanced-classification-over-under-sampling?scriptVersionId=52762319'>https://www.kaggle.com/ashrafkhan94/imbalanced-classification-over-under-sampling</a>\n",
        "<br><br>\n",
        "<p style=\"font-family:verdana; word-spacing:1.5px;font-size:15px\">Посилання на блокнот для чутливих до вартості алгоритмів незбалансованої класифікації:</p>\n",
        "<a href='https://www.kaggle.com/ashrafkhan94/imbalanced-classification-cost-sensitive-algrthms?scriptVersionId=52794216'>https://www.kaggle.com/ashrafkhan94/imbalanced-classification-cost-sensitive-algrthms</a>\n"
      ]
    },
    {
      "metadata": {
        "id": "__ZTfVuuxJqi"
      },
      "cell_type": "markdown",
      "source": [
        "<h3><center>1. Переміщення порогу ймовірності</center></h3>\n",
        "<div style=\"font-family:verdana; word-spacing:1.5px;\">\n",
        "   Багато алгоритмів машинного навчання здатні передбачати ймовірність або оцінку членства в класі, і це потрібно інтерпретувати, перш ніж його можна буде зіставити з чіткою міткою класу. Це досягається за допомогою порогового значення, наприклад 0,5, де всі значення, що дорівнюють або перевищують порогове значення, відображаються в одному класі, а всі інші значення – в іншому класі.<br><br>\n",
        "Для проблем класифікації, які мають серйозний дисбаланс класів, поріг за замовчуванням може призвести до низької продуктивності.<br><br>\n",
        "    У деяких випадках, наприклад під час використання кривих ROC і кривих точного запам’ятовування, найкращий або оптимальний поріг для класифікатора можна обчислити безпосередньо. В інших випадках можна використовувати пошук по сітці, щоб налаштувати поріг і знайти оптимальне значення.<br><br>\n",
        "<h4 style=\"font-family:verdana; word-spacing:1.5px;font-size:16px\">1. Converting Probabilities to Class Labels</h4>\n",
        "\n",
        "Рішення щодо перетворення прогнозованої ймовірності або оцінки в мітку класу регулюється параметром, який називається порогом рішення, порогом розрізнення або просто порогом. Значення за замовчуванням для порогового значення становить 0,5 для нормалізованих прогнозованих ймовірностей або балів у діапазоні від 0 до 1.<br>\n",
        "<h4 style=\"font-family:verdana; word-spacing:1.5px;font-size:16px\">2. Переміщення порогу для незбалансованої класифікації</h4>\n",
        "Нам потрібно шукати діапазон порогових значень, щоб знайти найкраще порогове значення.<br> У деяких випадках оптимальне порогове значення можна обчислити безпосередньо. Налаштування або зсув порогу прийняття рішення для того, щоб задовольнити ширші вимоги проблеми класифікації, зазвичай називають переміщенням порогу, налаштуванням порогу або просто пороговим значенням.\n",
        "    </div>"
      ]
    },
    {
      "metadata": {
        "id": "LGUBa9tmxJqi"
      },
      "cell_type": "markdown",
      "source": [
        "<div style=\"font-family:verdana; word-spacing:1.5px;\">\n",
        "<h3>1.1 Оптимальний поріг: крива ROC</h3>\n",
        "    Коефіцієнт хибнопозитивного результату відкладається на осі абсцис, а коефіцієнт справжнього позитивного результату – на осі у, і цей графік називається кривою робочих характеристик приймача або кривою ROC. <br>Діагональна лінія на графіку від нижнього лівого до верхнього правого кута вказує на криву для класифікатора без навичок (прогнозує клас більшості в усіх випадках), а точка у верхньому лівому куті графіка вказує на модель з ідеальними навичками.<br><br>\n",
        "    Є багато способів, якими ми можемо визначити порогове значення з оптимальним балансом між хибно-позитивними та справжніми позитивними показниками. По-перше, справжній позитивний показник називається чутливістю. Один мінус хибнопозитивної частоти називається специфічністю. Середнє геометричне або G-середнє – це метрика для незбалансованої класифікації, яка, якщо її оптимізувати, шукатиме баланс між чутливістю та специфічністю.\n",
        "    </div>\n",
        "    \n",
        "![image.png](attachment:image.png)"
      ]
    },
    {
      "metadata": {
        "_kg_hide-input": true,
        "trusted": true,
        "id": "FEOIhfzfxJqi",
        "outputId": "0272ac8c-8a4b-43b6-de30-bcac70d1961d",
        "colab": {
          "base_uri": "https://localhost:8080/",
          "height": 49,
          "referenced_widgets": [
            "c06b19a01d3b4d688396c61b9d5a9ce0",
            "976fcb8c5e164e63ac1631ba48bf7b80",
            "bb8be01a735e4b989de755ab34435038",
            "af914ac2182d4b8f9f09631f81588541",
            "2623854626024075aa90542914d44673",
            "67fb64ba2b754b349edbd26f26619cae",
            "092955ee4a2848dba069dfafab128a3e",
            "2dbc4fbd0a444d6b92059a0f29b35522",
            "f15a2b78386f4e818359eb1575661891",
            "0b6fec8d17ab4e1d9a6a2606dc3c6299",
            "5255ab82924944bba12afb561267bf46"
          ]
        }
      },
      "cell_type": "code",
      "source": [
        "import warnings\n",
        "warnings.filterwarnings('ignore')\n",
        "\n",
        "import numpy as np\n",
        "import pandas as pd\n",
        "\n",
        "from sklearn.linear_model import LogisticRegression\n",
        "from sklearn.model_selection import train_test_split, GridSearchCV\n",
        "from collections import Counter\n",
        "from sklearn.datasets import make_classification\n",
        "import matplotlib.pyplot as plt\n",
        "\n",
        "from sklearn.model_selection import cross_val_score\n",
        "from sklearn.model_selection import RepeatedStratifiedKFold\n",
        "from sklearn.tree import DecisionTreeClassifier\n",
        "from imblearn.pipeline import Pipeline\n",
        "\n",
        "from sklearn.svm import SVC\n",
        "from sklearn.neighbors import KNeighborsClassifier\n",
        "from sklearn.metrics import roc_auc_score, precision_recall_curve, roc_curve, f1_score\n",
        "from tqdm import tqdm_notebook as tqdm\n",
        "tqdm().pandas()"
      ],
      "execution_count": 1,
      "outputs": [
        {
          "output_type": "display_data",
          "data": {
            "text/plain": [
              "0it [00:00, ?it/s]"
            ],
            "application/vnd.jupyter.widget-view+json": {
              "version_major": 2,
              "version_minor": 0,
              "model_id": "c06b19a01d3b4d688396c61b9d5a9ce0"
            }
          },
          "metadata": {}
        }
      ]
    },
    {
      "metadata": {
        "trusted": true,
        "id": "jTpnJUCvxJqj"
      },
      "cell_type": "code",
      "source": [
        "def run_model():\n",
        "    X, y = make_classification(n_samples=10000, n_features=2, n_redundant=0,\n",
        "        n_clusters_per_class=1, weights=[0.99], flip_y=0, random_state=4)\n",
        "\n",
        "    trainX, testX, trainy, testy = train_test_split(X, y, test_size=0.5, random_state=2,\n",
        "        stratify=y)\n",
        "    model = LogisticRegression(solver='lbfgs')\n",
        "    model.fit(trainX, trainy)\n",
        "\n",
        "    yhat = model.predict_proba(testX)\n",
        "\n",
        "    # Positive class values\n",
        "    yhat = yhat[:, 1]\n",
        "\n",
        "    return yhat, testy"
      ],
      "execution_count": 2,
      "outputs": []
    },
    {
      "metadata": {
        "trusted": true,
        "id": "W6XNghU5xJqk",
        "outputId": "f45b3a50-ed78-4b0c-ed53-7a40c76ad109",
        "colab": {
          "base_uri": "https://localhost:8080/"
        }
      },
      "cell_type": "code",
      "source": [
        "yhat, testy = run_model()\n",
        "\n",
        "fpr, tpr, thresholds = roc_curve(testy, yhat)\n",
        "gmeans = np.sqrt(tpr * (1-fpr))\n",
        "\n",
        "# locate the index of the largest g-mean\n",
        "ix = np.argmax(gmeans)\n",
        "\n",
        "print('Best Threshold=%f, G-mean=%.3f' % (thresholds[ix], gmeans[ix]))"
      ],
      "execution_count": 3,
      "outputs": [
        {
          "output_type": "stream",
          "name": "stdout",
          "text": [
            "Best Threshold=0.015790, G-mean=0.934\n"
          ]
        }
      ]
    },
    {
      "metadata": {
        "_kg_hide-input": true,
        "trusted": true,
        "id": "XME2dmfDxJqk",
        "outputId": "e95b741c-f08b-45ae-c81d-f6aa6c995e12",
        "colab": {
          "base_uri": "https://localhost:8080/",
          "height": 465
        }
      },
      "cell_type": "code",
      "source": [
        "plt.figure(figsize=(10,5))\n",
        "plt.plot([0,1], [0,1], linestyle='--', label='No Skill')\n",
        "\n",
        "plt.plot(fpr, tpr, marker='.', label='Logistic')\n",
        "plt.scatter(fpr[ix], tpr[ix], marker='o', color='black', label='Best')\n",
        "# axis labels\n",
        "plt.xlabel('False Positive Rate')\n",
        "plt.ylabel('True Positive Rate')\n",
        "plt.legend()\n",
        "# show the plot\n",
        "plt.show()"
      ],
      "execution_count": 4,
      "outputs": [
        {
          "output_type": "display_data",
          "data": {
            "text/plain": [
              "<Figure size 1000x500 with 1 Axes>"
            ],
            "image/png": "[encoded data removed]"
          },
          "metadata": {}
        }
      ]
    },
    {
      "metadata": {
        "id": "cZw9uaiVxJqk"
      },
      "cell_type": "markdown",
      "source": [
        "<div style=\"font-family:verdana; word-spacing:1.5px;\">\n",
        "<h3>1.2 Оптимальний поріг: крива точного запам'ятовування</h3>\n",
        "\n",
        "На відміну від кривої ROC, крива точності запам’ятовування зосереджена на продуктивності класифікатора лише для позитивного (міноритарного класу). Точність – це відношення кількості справжніх позитивних результатів, поділених на суму справжніх позитивних і хибних позитивних результатів. <br><br>Він описує, наскільки добре модель прогнозує позитивний клас. Відкликання розраховується як відношення кількості істинно позитивних результатів, поділених на суму істинно позитивних і хибно негативних результатів.</div>"
      ]
    },
    {
      "metadata": {
        "trusted": true,
        "id": "G5x0ZwSFxJqk",
        "outputId": "2ad11ef9-f116-4e74-85ae-a12b7d3b8f4c",
        "colab": {
          "base_uri": "https://localhost:8080/"
        }
      },
      "cell_type": "code",
      "source": [
        "yhat, testy = run_model()\n",
        "\n",
        "precision, recall, thresholds = precision_recall_curve(testy, yhat)\n",
        "\n",
        "#Calculate f-Score\n",
        "fscore = (2 * precision * recall) / (precision + recall)\n",
        "\n",
        "# locate the index of the largest g-mean\n",
        "ix = np.argmax(fscore)\n",
        "\n",
        "print('Best Threshold=%f, G-mean=%.3f' % (thresholds[ix], fscore[ix]))"
      ],
      "execution_count": 5,
      "outputs": [
        {
          "output_type": "stream",
          "name": "stdout",
          "text": [
            "Best Threshold=0.257034, G-mean=0.756\n"
          ]
        }
      ]
    },
    {
      "metadata": {
        "_kg_hide-input": true,
        "trusted": true,
        "id": "gil0plLAxJql",
        "outputId": "c8ab8af3-0a4e-46db-923b-52888daba1fa",
        "colab": {
          "base_uri": "https://localhost:8080/",
          "height": 465
        }
      },
      "cell_type": "code",
      "source": [
        "no_skill = len(testy[testy==1]) / len(testy)\n",
        "\n",
        "plt.figure(figsize=(10,5))\n",
        "plt.plot([0,1], [no_skill,no_skill], linestyle='--', label='No Skill')\n",
        "plt.plot(recall, precision, marker='.', label='Logistic')\n",
        "plt.scatter(recall[ix], precision[ix], marker='o', color='black', label='Best')\n",
        "# axis labels\n",
        "plt.xlabel('Recall')\n",
        "plt.ylabel('Precision')\n",
        "plt.legend()\n",
        "# show the plot\n",
        "plt.show()"
      ],
      "execution_count": 6,
      "outputs": [
        {
          "output_type": "display_data",
          "data": {
            "text/plain": [
              "<Figure size 1000x500 with 1 Axes>"
            ],
            "image/png": "[encoded data removed]"
          },
          "metadata": {}
        }
      ]
    },
    {
      "metadata": {
        "id": "6DcW2YK2xJql"
      },
      "cell_type": "markdown",
      "source": [
        "<div style=\"font-family:verdana; word-spacing:1.5px;\">\n",
        "<h3>1.3 Оптимальне налаштування порогу</h3>\n",
        "    Іноді ми просто маємо модель і хочемо безпосередньо знати найкращий поріг.<br> У цьому випадку ми можемо визначити набір порогів, а потім оцінити прогнозовані ймовірності для кожного, щоб знайти та вибрати оптимальний поріг. </div>"
      ]
    },
    {
      "metadata": {
        "trusted": true,
        "id": "qX_0u2VwxJql",
        "outputId": "4d81b31b-fa74-4e35-8373-791205b230b7",
        "colab": {
          "base_uri": "https://localhost:8080/"
        }
      },
      "cell_type": "code",
      "source": [
        "# apply threshold to positive probabilities to create labels\n",
        "def to_labels(pos_probs, threshold):\n",
        "    return (pos_probs >= threshold).astype('int')\n",
        "\n",
        "yhat, ytest = run_model()\n",
        "\n",
        "thresholds = np.arange(0, 1, 0.001)\n",
        "\n",
        "scores = [f1_score(ytest,to_labels(yhat, t)) for t in thresholds]\n",
        "\n",
        "ix = np.argmax(scores)\n",
        "print('Threshold=%.3f, F-measure=%.5f' % (thresholds[ix], scores[ix]))"
      ],
      "execution_count": 7,
      "outputs": [
        {
          "output_type": "stream",
          "name": "stdout",
          "text": [
            "Threshold=0.252, F-measure=0.75556\n"
          ]
        }
      ]
    },
    {
      "metadata": {
        "id": "WFeqR3YXxJql"
      },
      "cell_type": "markdown",
      "source": [
        "<h3><center>2. Калібрування ймовірності</center></h3>\n",
        "<div style=\"font-family:verdana; word-spacing:1.5px;\">\n",
        "Відкалібровані ймовірності означають, що ймовірність відображає ймовірність справжніх подій. Це може ввести в оману, якщо ви вважаєте, що в класифікації ми маємо мітки класів, які є правильними чи ні, замість ймовірностей.<br><br>\n",
        "    Якщо передбачити 100 прикладів з імовірністю 0,8, то 80 відсотків прикладів матимуть клас 1, а 20 відсотків матимуть клас 0, якщо ймовірності відкалібровано.<br><br>\n",
        "Імовірності калібруються шляхом перемасштабування їхніх значень, щоб вони краще відповідали розподілу, що спостерігається в даних навчання.<br>\n",
        "    Прогнози ймовірностей створюються на основі навчальних даних, а розподіл ймовірностей порівнюється з очікуваними ймовірностями та коригується для забезпечення кращої відповідності.<br><br>\n",
        "<ul>    Існує дві основні методики масштабування прогнозованих ймовірностей; це шкала Платта та ізотонічна регресія.\n",
        "    <li>Масштабування Платта. Модель логістичної регресії для перетворення ймовірностей.\n",
        "    <li>Ізотонічна регресія. Зважена регресійна модель найменших квадратів для перетворення ймовірностей.\n",
        "    </ul>\n",
        "   Бібліотека scikit-learn надає доступ як до методів масштабування Платта, так і до методів ізотонічної регресії для калібрування ймовірностей через клас CalibratedClassifierCV. Це оболонка для моделі (наприклад, SVM). Бажана техніка масштабування визначається за допомогою аргументу методу, який може бути «сигмоїдним» (шкалювання Платта) або «ізотонічним» (ізотонічна регресія).\n",
        "    </div>"
      ]
    },
    {
      "metadata": {
        "id": "83rUtEWqxJqm"
      },
      "cell_type": "markdown",
      "source": [
        "<h3>2.1. SVM із каліброваною ймовірністю</h3>"
      ]
    },
    {
      "metadata": {
        "id": "6c5B6ZwzxJqm"
      },
      "cell_type": "markdown",
      "source": [
        "<h4> Перед калібруванням </h4>"
      ]
    },
    {
      "metadata": {
        "trusted": true,
        "id": "o2kRfBNHxJqm",
        "outputId": "7f4dd4c7-887e-4d5f-8979-f18d095095af",
        "colab": {
          "base_uri": "https://localhost:8080/"
        }
      },
      "cell_type": "code",
      "source": [
        "X, y = make_classification(n_samples=10000, n_features=2, n_redundant=0,\n",
        "    n_clusters_per_class=1, weights=[0.99], flip_y=0, random_state=4)\n",
        "\n",
        "\n",
        "model = SVC(gamma='scale')\n",
        "\n",
        "\n",
        "cv = RepeatedStratifiedKFold(n_splits=10, n_repeats=3, random_state=1)\n",
        "\n",
        "scores = cross_val_score(model, X, y, scoring='roc_auc', cv=cv, n_jobs=-1)\n",
        "print('Mean ROC AUC: %.3f' % np.mean(scores))"
      ],
      "execution_count": 8,
      "outputs": [
        {
          "output_type": "stream",
          "name": "stdout",
          "text": [
            "Mean ROC AUC: 0.808\n"
          ]
        }
      ]
    },
    {
      "metadata": {
        "id": "xG7YRdAZxJqm"
      },
      "cell_type": "markdown",
      "source": [
        "<h4>Після калібрування</h4>"
      ]
    },
    {
      "metadata": {
        "trusted": true,
        "id": "hm9cckKZxJqm",
        "outputId": "4316e19e-20bc-44cc-844f-0c0a0634c04a",
        "colab": {
          "base_uri": "https://localhost:8080/"
        }
      },
      "cell_type": "code",
      "source": [
        "from sklearn.calibration import CalibratedClassifierCV\n",
        "\n",
        "model = SVC(gamma='scale')\n",
        "\n",
        "calibrated = CalibratedClassifierCV(model, method='isotonic', cv=3)\n",
        "\n",
        "cv = RepeatedStratifiedKFold(n_splits=10, n_repeats=3, random_state=1)\n",
        "\n",
        "\n",
        "scores = cross_val_score(calibrated, X, y, scoring='roc_auc', cv=cv, n_jobs=-1)\n",
        "print('Mean ROC AUC: %.3f' % np.mean(scores))"
      ],
      "execution_count": 9,
      "outputs": [
        {
          "output_type": "stream",
          "name": "stdout",
          "text": [
            "Mean ROC AUC: 0.867\n"
          ]
        }
      ]
    },
    {
      "metadata": {
        "id": "pkrnsskixJqm"
      },
      "cell_type": "markdown",
      "source": [
        "<h4>Калібрування + вагові коефіцієнти класів (евристика - зворотний розподіл)</h4>"
      ]
    },
    {
      "metadata": {
        "trusted": true,
        "id": "n7KyD3-2xJqm",
        "outputId": "673a51ce-0368-4f79-bc89-c7cf8059cef9",
        "colab": {
          "base_uri": "https://localhost:8080/"
        }
      },
      "cell_type": "code",
      "source": [
        "from sklearn.calibration import CalibratedClassifierCV\n",
        "\n",
        "model = SVC(gamma='scale', class_weight='balanced')\n",
        "\n",
        "calibrated = CalibratedClassifierCV(model, method='isotonic', cv=3)\n",
        "\n",
        "cv = RepeatedStratifiedKFold(n_splits=10, n_repeats=3, random_state=1)\n",
        "\n",
        "\n",
        "scores = cross_val_score(calibrated, X, y, scoring='roc_auc', cv=cv, n_jobs=-1)\n",
        "print('Mean ROC AUC: %.3f' % np.mean(scores))"
      ],
      "execution_count": 10,
      "outputs": [
        {
          "output_type": "stream",
          "name": "stdout",
          "text": [
            "Mean ROC AUC: 0.964\n"
          ]
        }
      ]
    },
    {
      "metadata": {
        "id": "Pm4qkl07xJqm"
      },
      "cell_type": "markdown",
      "source": [
        "<h3>2.2. Калібрування ймовірності пошуку сітки за допомогою KNN"
      ]
    },
    {
      "metadata": {
        "trusted": true,
        "id": "NCQ3cuGJxJqm",
        "outputId": "6c08dafd-d88f-42b7-c494-2325daaf9c00",
        "colab": {
          "base_uri": "https://localhost:8080/"
        }
      },
      "cell_type": "code",
      "source": [
        "model = KNeighborsClassifier()\n",
        "\n",
        "calibrated = CalibratedClassifierCV(model)\n",
        "\n",
        "param_grid = dict(cv=[2,3,4], method=['sigmoid','isotonic'])\n",
        "\n",
        "\n",
        "cv = RepeatedStratifiedKFold(n_splits=10, n_repeats=3, random_state=1)\n",
        "\n",
        "grid = GridSearchCV(estimator=calibrated, param_grid=param_grid, n_jobs=-1, cv=cv,\n",
        "scoring='roc_auc')\n",
        "\n",
        "grid_result = grid.fit(X, y)\n",
        "\n",
        "\n",
        "print('Best: %f using %s' % (grid_result.best_score_, grid_result.best_params_)) # report all configurations\n",
        "means = grid_result.cv_results_['mean_test_score']\n",
        "stds = grid_result.cv_results_['std_test_score']\n",
        "params = grid_result.cv_results_['params']\n",
        "for mean, stdev, param in zip(means, stds, params):\n",
        "    print('%f (%f) with: %r' % (mean, stdev, param))"
      ],
      "execution_count": 11,
      "outputs": [
        {
          "output_type": "stream",
          "name": "stdout",
          "text": [
            "Best: 0.895029 using {'cv': 2, 'method': 'sigmoid'}\n",
            "0.895029 (0.066617) with: {'cv': 2, 'method': 'sigmoid'}\n",
            "0.893549 (0.065846) with: {'cv': 2, 'method': 'isotonic'}\n",
            "0.886835 (0.070207) with: {'cv': 3, 'method': 'sigmoid'}\n",
            "0.885104 (0.071671) with: {'cv': 3, 'method': 'isotonic'}\n",
            "0.885167 (0.071732) with: {'cv': 4, 'method': 'sigmoid'}\n",
            "0.877146 (0.077137) with: {'cv': 4, 'method': 'isotonic'}\n"
          ]
        }
      ]
    },
    {
      "metadata": {
        "id": "YpTK_mgYxJqn"
      },
      "cell_type": "markdown",
      "source": [
        "<h3><center>3. Алгоритми ансамблю</center></h3>\n",
        "<h3>3.1. Пакування в мішки з випадковою недостатньою вибіркою</h3>\n",
        "<div style=\"font-family:verdana; word-spacing:1.5px;\">\n",
        "Перевибірка класу меншості в системі початкового завантаження називається OverBagging; так само, недобірка більшості класів у завантажувальній системі називається UnderBagging, а поєднання обох підходів називається OverUnderBagging. <br><br>Бібліотека незбалансованого навчання забезпечує реалізацію UnderBagging. Зокрема, він надає версію пакетування, яка використовує стратегію випадкової недостатньої вибірки для більшості класів у початковій вибірці, щоб збалансувати два класи. Це надається в класі BalancedBaggingClassifier.</div>"
      ]
    },
    {
      "metadata": {
        "trusted": true,
        "id": "lyfftXV2xJqn",
        "outputId": "aa1207a6-0247-426d-b34f-1f1bbf4e1843",
        "colab": {
          "base_uri": "https://localhost:8080/"
        }
      },
      "cell_type": "code",
      "source": [
        "from imblearn.ensemble import BalancedBaggingClassifier\n",
        "\n",
        "model = BalancedBaggingClassifier()\n",
        "\n",
        "cv = RepeatedStratifiedKFold(n_splits=10, n_repeats=3, random_state=1)\n",
        "\n",
        "\n",
        "scores = cross_val_score(model, X, y, scoring='roc_auc', cv=cv, n_jobs=-1)\n",
        "print('Mean ROC AUC: %.3f' % np.mean(scores))"
      ],
      "execution_count": 12,
      "outputs": [
        {
          "output_type": "stream",
          "name": "stdout",
          "text": [
            "Mean ROC AUC: 0.965\n"
          ]
        }
      ]
    },
    {
      "metadata": {
        "id": "x-G3Lx57xJqn"
      },
      "cell_type": "markdown",
      "source": [
        "<h3>3.2. Випадковий ліс із зважуванням класу</h3>"
      ]
    },
    {
      "metadata": {
        "trusted": true,
        "id": "QeW1X3thxJqn",
        "outputId": "bfc50a8b-ec5e-4ccd-91ff-f3f533441a4d",
        "colab": {
          "base_uri": "https://localhost:8080/"
        }
      },
      "cell_type": "code",
      "source": [
        "from sklearn.ensemble import RandomForestClassifier\n",
        "\n",
        "model = RandomForestClassifier(n_estimators=20, class_weight='balanced')\n",
        "\n",
        "cv = RepeatedStratifiedKFold(n_splits=10, n_repeats=3, random_state=1)\n",
        "\n",
        "\n",
        "scores = cross_val_score(model, X, y, scoring='roc_auc', cv=cv, n_jobs=-1)\n",
        "print('Mean ROC AUC: %.3f' % np.mean(scores))"
      ],
      "execution_count": 13,
      "outputs": [
        {
          "output_type": "stream",
          "name": "stdout",
          "text": [
            "Mean ROC AUC: 0.887\n"
          ]
        }
      ]
    },
    {
      "metadata": {
        "id": "juNuMQPtxJqn"
      },
      "cell_type": "markdown",
      "source": [
        "<h3>3.3. Випадковий ліс із зважуванням класу Bootstrap </h3>\n",
        "<div style=\"font-family:verdana; word-spacing:1.5px;\">\n",
        "Враховуючи те, що кожне дерево рішень побудовано із вибірки початкового завантаження (наприклад, випадковий вибір із заміною), розподіл класів у вибірці даних буде різним для кожного дерева. Таким чином, може бути цікаво змінити зважування класу на основі розподілу класів у кожному початковому зразку замість усього навчального набору даних. Цього можна досягти, встановивши аргумент ваги класу на значення «збалансована підвибірка».</div>"
      ]
    },
    {
      "metadata": {
        "trusted": true,
        "id": "8C6U_QDBxJqn",
        "outputId": "d649f4f1-7c52-4ac4-beab-a8220cb196e1",
        "colab": {
          "base_uri": "https://localhost:8080/"
        }
      },
      "cell_type": "code",
      "source": [
        "model = RandomForestClassifier(n_estimators=20, class_weight='balanced_subsample')\n",
        "\n",
        "cv = RepeatedStratifiedKFold(n_splits=10, n_repeats=3, random_state=1)\n",
        "\n",
        "\n",
        "scores = cross_val_score(model, X, y, scoring='roc_auc', cv=cv, n_jobs=-1)\n",
        "print('Mean ROC AUC: %.3f' % np.mean(scores))"
      ],
      "execution_count": 14,
      "outputs": [
        {
          "output_type": "stream",
          "name": "stdout",
          "text": [
            "Mean ROC AUC: 0.888\n"
          ]
        }
      ]
    },
    {
      "metadata": {
        "id": "pv0lpwYWxJqn"
      },
      "cell_type": "markdown",
      "source": [
        "<h3>3.4. Випадковий ліс із випадковою недостатньою вибіркою</h3>\n"
      ]
    },
    {
      "metadata": {
        "trusted": true,
        "id": "-BA3j9MIxJqn",
        "outputId": "c8185ead-987a-4a99-f9ff-fddbd89fb6b8",
        "colab": {
          "base_uri": "https://localhost:8080/"
        }
      },
      "cell_type": "code",
      "source": [
        "from imblearn.ensemble import BalancedRandomForestClassifier\n",
        "\n",
        "model = BalancedRandomForestClassifier(n_estimators=20)\n",
        "\n",
        "cv = RepeatedStratifiedKFold(n_splits=10, n_repeats=3, random_state=1)\n",
        "\n",
        "\n",
        "scores = cross_val_score(model, X, y, scoring='roc_auc', cv=cv, n_jobs=-1)\n",
        "print('Mean ROC AUC: %.3f' % np.mean(scores))"
      ],
      "execution_count": 15,
      "outputs": [
        {
          "output_type": "stream",
          "name": "stdout",
          "text": [
            "Mean ROC AUC: 0.968\n"
          ]
        }
      ]
    },
    {
      "metadata": {
        "id": "t8QAag3zxJqn"
      },
      "cell_type": "markdown",
      "source": [
        "<h3>3.5. Легкий ансамбль</h3>\n",
        "\n",
        "<div style=\"font-family:verdana; word-spacing:1.5px;\">\n",
        "Easy Ensemble передбачає створення збалансованих зразків навчального набору даних шляхом вибору всіх прикладів із класу меншості та підмножини з класу більшості. Замість використання скорочених дерев рішень для кожної підмножини використовуються розширені дерева рішень, зокрема алгоритм AdaBoost.<br><br>\n",
        "   AdaBoost працює так, що спочатку підбирає дерево рішень для набору даних, потім визначає помилки, зроблені деревом, і зважує приклади в наборі даних за цими помилками, щоб більше уваги приділялося неправильно класифікованим прикладам і менше – правильно класифікованим. Потім наступне дерево підганяється до зваженого набору даних, щоб виправити помилки. Потім процес повторюється для заданої кількості дерев рішень.\n",
        "    </div>"
      ]
    },
    {
      "metadata": {
        "trusted": true,
        "id": "pNyxG_M2xJqn",
        "outputId": "a1744a64-dc5e-4386-a0cd-ef2eead88f27",
        "colab": {
          "base_uri": "https://localhost:8080/"
        }
      },
      "cell_type": "code",
      "source": [
        "from imblearn.ensemble import EasyEnsembleClassifier\n",
        "\n",
        "model = EasyEnsembleClassifier(n_estimators=20)\n",
        "\n",
        "cv = RepeatedStratifiedKFold(n_splits=10, n_repeats=3, random_state=1)\n",
        "\n",
        "\n",
        "scores = cross_val_score(model, X, y, scoring='roc_auc', cv=cv, n_jobs=-1)\n",
        "print('Mean ROC AUC: %.3f' % np.mean(scores))"
      ],
      "execution_count": 16,
      "outputs": [
        {
          "output_type": "stream",
          "name": "stdout",
          "text": [
            "Mean ROC AUC: 0.965\n"
          ]
        }
      ]
    },
    {
      "metadata": {
        "id": "2WYpRPFxxJqo"
      },
      "cell_type": "markdown",
      "source": [
        "<h3><center>4. Однокласова класифікація</center></h3>\n",
        "\n",
        "<div style=\"font-family:verdana; word-spacing:1.5px;\">\n",
        "Виявлення викидів у даних називається виявленням викидів або аномалій, а підсфера машинного навчання, зосереджена на цій проблемі, називається однокласовою класифікацією.<br><br> Це алгоритми неконтрольованого навчання, які намагаються моделювати звичайні приклади, щоб класифікувати нові приклади як нормальні чи ненормальні (наприклад, викиди). Однокласові алгоритми класифікації можна використовувати для завдань бінарної класифікації з сильно викривленим розподілом класів.</div><br><br>\n",
        "\n",
        "![image.png](attachment:image.png)"
      ]
    },
    {
      "metadata": {
        "id": "yro4zJxGxJqo"
      },
      "cell_type": "markdown",
      "source": [
        "<h3>4.1. Однокласові опорні векторні машини </h3>\n",
        "\n",
        "![image.png](attachment:image.png)\n",
        "\n",
        "<div style=\"font-family:verdana; word-spacing:1.5px;\">\n",
        "гіперпараметр nu контролює чутливість опорних векторів і повинен бути налаштований на приблизне співвідношення викидів у даних, напр. 0,01%.<br><br>\n",
        "Після підгонки модель можна використовувати для виявлення викидів у нових даних. Під час виклику функції predict() для моделі вона виведе +1 для звичайних прикладів, так званих інлієрів, і -1 для викидів.\n",
        "<br><br>\n",
        "    Якщо ми хочемо оцінити продуктивність моделі як бінарного класифікатора, ми повинні змінити мітки в тестовому наборі даних з 0 і 1 для більшості і меншості класів відповідно на\n",
        "+1 і -1.\n",
        "    <br><br><br>\n",
        "    Оскільки ми не навчаємо calss меншості (label=1) для викидів, ми позначатимемо їх як -1 (викиди) у перевірених даних.<br>\n",
        "    Оскільки ми навчаємо лише мажоритарний клас, коли ми прогнозуємо модель за допомогою даних testX (які містять як більшість, так і меншість), модель призначатиме -1 для меншості (оскільки вона не була навчена), 1 для внутрішніх даних класу mojaority та -1 для вихідних даних для більшості.\n",
        "<br><br><br>\n",
        "Ми можемо обчислити F-міру за допомогою функції f1 score() і вказати мітку класу меншості як -1 через аргумент pos label.\n",
        "</div>\n"
      ]
    },
    {
      "metadata": {
        "_kg_hide-input": true,
        "trusted": true,
        "id": "JGb8ZEj5xJqo"
      },
      "cell_type": "code",
      "source": [
        "X, y = make_classification(n_samples=10000, n_features=2, n_redundant=0,\n",
        "    n_clusters_per_class=1, weights=[0.999], flip_y=0, random_state=4)\n",
        "# split into train/test sets\n",
        "trainX, testX, trainy, testy = train_test_split(X, y, test_size=0.5, random_state=2,\n",
        "    stratify=y)"
      ],
      "execution_count": 17,
      "outputs": []
    },
    {
      "metadata": {
        "trusted": true,
        "id": "ieMV13y8xJqo",
        "outputId": "74f23214-6446-4112-ea0b-fd3883256aa5",
        "colab": {
          "base_uri": "https://localhost:8080/"
        }
      },
      "cell_type": "code",
      "source": [
        "from sklearn.svm import OneClassSVM\n",
        "\n",
        "model = OneClassSVM(gamma='scale', nu=0.01)\n",
        "\n",
        "trainX = trainX[trainy ==0]\n",
        "\n",
        "model.fit(trainX)\n",
        "\n",
        "yhat = model.predict(testX)\n",
        "\n",
        "# Marking minority class data as outlier(-1) and majority as inlier(1).\n",
        "\n",
        "testy[testy == 1] = -1\n",
        "testy[testy == 0] = 1\n",
        "\n",
        "score = f1_score(testy, yhat, pos_label=-1)\n",
        "print('F-measure: %.3f' % score)"
      ],
      "execution_count": 18,
      "outputs": [
        {
          "output_type": "stream",
          "name": "stdout",
          "text": [
            "F-measure: 0.123\n"
          ]
        }
      ]
    },
    {
      "metadata": {
        "id": "EZHHCW5wxJqo"
      },
      "cell_type": "markdown",
      "source": [
        "<h3>4.2. Ізоляція Форрест </h3>"
      ]
    },
    {
      "metadata": {
        "trusted": true,
        "id": "pen2YdKmxJqo",
        "outputId": "1c4087b9-ebb2-469e-c933-624436cfc168",
        "colab": {
          "base_uri": "https://localhost:8080/"
        }
      },
      "cell_type": "code",
      "source": [
        "from sklearn.ensemble import IsolationForest\n",
        "from sklearn.metrics import f1_score\n",
        "import pandas as pd\n",
        "\n",
        "# Узгодження розміру\n",
        "min_len = min(len(trainX), len(trainy))\n",
        "trainX_trimmed = trainX[:min_len]\n",
        "trainy_trimmed = trainy[:min_len]\n",
        "\n",
        "# Об'єднання у DataFrame\n",
        "train_df = pd.DataFrame(trainX_trimmed)\n",
        "train_df['target'] = trainy_trimmed\n",
        "\n",
        "# Відбір лише нормальних (неаномальних) зразків\n",
        "train_df = train_df[train_df['target'] == 0]\n",
        "\n",
        "# Підготовка до навчання\n",
        "trainX_filtered = train_df.drop('target', axis=1).values\n",
        "\n",
        "# Навчання моделі Isolation Forest\n",
        "model = IsolationForest(contamination=0.01, random_state=42)\n",
        "model.fit(trainX_filtered)\n",
        "\n",
        "# Передбачення\n",
        "yhat = model.predict(testX)\n",
        "\n",
        "# Адаптація testy під формат аномалій\n",
        "testy_adj = testy.copy()\n",
        "testy_adj[testy == 1] = -1\n",
        "testy_adj[testy == 0] = 1\n",
        "\n",
        "# Оцінка F1\n",
        "score = f1_score(testy_adj, yhat, pos_label=-1)\n",
        "print('F-measure: %.3f' % score)\n",
        "\n"
      ],
      "execution_count": 21,
      "outputs": [
        {
          "output_type": "stream",
          "name": "stdout",
          "text": [
            "F-measure: 0.013\n"
          ]
        }
      ]
    },
    {
      "metadata": {
        "id": "wJPGGT4pxJqo"
      },
      "cell_type": "markdown",
      "source": [
        "забруднення є досить низьким і може призвести до багатьох прогонів із F-мірою 0,0. Щоб підвищити стабільність методу на цьому наборі даних, спробуйте збільшити забруднення до 0,05 або навіть 0,1 і повторно запустіть приклад."
      ]
    },
    {
      "metadata": {
        "trusted": true,
        "id": "l9GmIvMWxJqr",
        "outputId": "f0494fbc-781d-4329-c6a0-ce514b834fbe",
        "colab": {
          "base_uri": "https://localhost:8080/"
        }
      },
      "cell_type": "code",
      "source": [
        "from sklearn.ensemble import IsolationForest\n",
        "from sklearn.metrics import f1_score\n",
        "import numpy as np\n",
        "\n",
        "# Синхронізація розмірів\n",
        "min_len = min(len(trainX), len(trainy))\n",
        "trainX = trainX[:min_len]\n",
        "trainy = trainy[:min_len]\n",
        "\n",
        "# Вибір нормальних зразків (0)\n",
        "normal_trainX = trainX[trainy == 0]\n",
        "\n",
        "# Створення та тренування моделі\n",
        "model = IsolationForest(contamination=0.1, random_state=42)\n",
        "model.fit(normal_trainX)\n",
        "\n",
        "# Прогноз\n",
        "yhat = model.predict(testX)\n",
        "\n",
        "# Перетворення міток: 1 → -1 (аномалія), 0 → 1 (нормальні)\n",
        "testy_converted = np.copy(testy)\n",
        "testy_converted[testy_converted == 1] = -1\n",
        "testy_converted[testy_converted == 0] = 1\n",
        "\n",
        "# Обчислення F1-метрики\n",
        "score = f1_score(testy_converted, yhat, pos_label=-1)\n",
        "print('F-measure: %.3f' % score)\n",
        "\n"
      ],
      "execution_count": 24,
      "outputs": [
        {
          "output_type": "stream",
          "name": "stdout",
          "text": [
            "F-measure: 0.181\n"
          ]
        }
      ]
    },
    {
      "metadata": {
        "id": "4pE_mYJXxJqr"
      },
      "cell_type": "markdown",
      "source": [
        "<h3>4.3. Детермінант мінімальної коваріації</h3>\n",
        "\n",
        "\n",
        "Якщо вхідні змінні мають розподіл Гауса, то для виявлення викидів можна використовувати прості статистичні методи. Наприклад, якщо набір даних має дві вхідні змінні, і обидві є Гаусовими, тоді простір ознак утворює багатовимірний Гаусів і знання цього розподілу можна використовувати для визначення значень, далеких від розподілу."
      ]
    },
    {
      "metadata": {
        "_kg_hide-input": true,
        "trusted": true,
        "id": "n_33r7BwxJqs",
        "outputId": "d2475abb-df49-456a-8193-c04716ce517b",
        "colab": {
          "base_uri": "https://localhost:8080/"
        }
      },
      "cell_type": "code",
      "source": [
        "from sklearn.covariance import EllipticEnvelope\n",
        "\n",
        "model = EllipticEnvelope(contamination=0.1)\n",
        "\n",
        "trainX = trainX[trainy ==0]\n",
        "\n",
        "model.fit(trainX)\n",
        "\n",
        "yhat = model.predict(testX)\n",
        "\n",
        "# Marking minority class data as outlier(-1) and majority as inlier(1).\n",
        "\n",
        "testy[testy == 1] = -1\n",
        "testy[testy == 0] = 1\n",
        "\n",
        "score = f1_score(testy, yhat, pos_label=-1)\n",
        "print('F-measure: %.3f' % score)"
      ],
      "execution_count": 25,
      "outputs": [
        {
          "output_type": "stream",
          "name": "stdout",
          "text": [
            "F-measure: 0.179\n"
          ]
        }
      ]
    }
  ],
  "metadata": {
    "kernelspec": {
      "language": "python",
      "display_name": "Python 3",
      "name": "python3"
    },
    "language_info": {
      "pygments_lexer": "ipython3",
      "nbconvert_exporter": "python",
      "version": "3.6.4",
      "file_extension": ".py",
      "codemirror_mode": {
        "name": "ipython",
        "version": 3
      },
      "name": "python",
      "mimetype": "text/x-python"
    },
    "colab": {
      "name": "Imbalanced Classification: Advance Algorithms",
      "provenance": [],
      "include_colab_link": true
    },
    "widgets": {
      "application/vnd.jupyter.widget-state+json": {
        "c06b19a01d3b4d688396c61b9d5a9ce0": {
          "model_module": "@jupyter-widgets/controls",
          "model_name": "HBoxModel",
          "model_module_version": "1.5.0",
          "state": {
            "_dom_classes": [],
            "_model_module": "@jupyter-widgets/controls",
            "_model_module_version": "1.5.0",
            "_model_name": "HBoxModel",
            "_view_count": null,
            "_view_module": "@jupyter-widgets/controls",
            "_view_module_version": "1.5.0",
            "_view_name": "HBoxView",
            "box_style": "",
            "children": [
              "IPY_MODEL_976fcb8c5e164e63ac1631ba48bf7b80",
              "IPY_MODEL_bb8be01a735e4b989de755ab34435038",
              "IPY_MODEL_af914ac2182d4b8f9f09631f81588541"
            ],
            "layout": "IPY_MODEL_2623854626024075aa90542914d44673"
          }
        },
        "976fcb8c5e164e63ac1631ba48bf7b80": {
          "model_module": "@jupyter-widgets/controls",
          "model_name": "HTMLModel",
          "model_module_version": "1.5.0",
          "state": {
            "_dom_classes": [],
            "_model_module": "@jupyter-widgets/controls",
            "_model_module_version": "1.5.0",
            "_model_name": "HTMLModel",
            "_view_count": null,
            "_view_module": "@jupyter-widgets/controls",
            "_view_module_version": "1.5.0",
            "_view_name": "HTMLView",
            "description": "",
            "description_tooltip": null,
            "layout": "IPY_MODEL_67fb64ba2b754b349edbd26f26619cae",
            "placeholder": "​",
            "style": "IPY_MODEL_092955ee4a2848dba069dfafab128a3e",
            "value": ""
          }
        },
        "bb8be01a735e4b989de755ab34435038": {
          "model_module": "@jupyter-widgets/controls",
          "model_name": "FloatProgressModel",
          "model_module_version": "1.5.0",
          "state": {
            "_dom_classes": [],
            "_model_module": "@jupyter-widgets/controls",
            "_model_module_version": "1.5.0",
            "_model_name": "FloatProgressModel",
            "_view_count": null,
            "_view_module": "@jupyter-widgets/controls",
            "_view_module_version": "1.5.0",
            "_view_name": "ProgressView",
            "bar_style": "success",
            "description": "",
            "description_tooltip": null,
            "layout": "IPY_MODEL_2dbc4fbd0a444d6b92059a0f29b35522",
            "max": 1,
            "min": 0,
            "orientation": "horizontal",
            "style": "IPY_MODEL_f15a2b78386f4e818359eb1575661891",
            "value": 0
          }
        },
        "af914ac2182d4b8f9f09631f81588541": {
          "model_module": "@jupyter-widgets/controls",
          "model_name": "HTMLModel",
          "model_module_version": "1.5.0",
          "state": {
            "_dom_classes": [],
            "_model_module": "@jupyter-widgets/controls",
            "_model_module_version": "1.5.0",
            "_model_name": "HTMLModel",
            "_view_count": null,
            "_view_module": "@jupyter-widgets/controls",
            "_view_module_version": "1.5.0",
            "_view_name": "HTMLView",
            "description": "",
            "description_tooltip": null,
            "layout": "IPY_MODEL_0b6fec8d17ab4e1d9a6a2606dc3c6299",
            "placeholder": "​",
            "style": "IPY_MODEL_5255ab82924944bba12afb561267bf46",
            "value": " 0/? [04:55&lt;?, ?it/s]"
          }
        },
        "2623854626024075aa90542914d44673": {
          "model_module": "@jupyter-widgets/base",
          "model_name": "LayoutModel",
          "model_module_version": "1.2.0",
          "state": {
            "_model_module": "@jupyter-widgets/base",
            "_model_module_version": "1.2.0",
            "_model_name": "LayoutModel",
            "_view_count": null,
            "_view_module": "@jupyter-widgets/base",
            "_view_module_version": "1.2.0",
            "_view_name": "LayoutView",
            "align_content": null,
            "align_items": null,
            "align_self": null,
            "border": null,
            "bottom": null,
            "display": null,
            "flex": null,
            "flex_flow": null,
            "grid_area": null,
            "grid_auto_columns": null,
            "grid_auto_flow": null,
            "grid_auto_rows": null,
            "grid_column": null,
            "grid_gap": null,
            "grid_row": null,
            "grid_template_areas": null,
            "grid_template_columns": null,
            "grid_template_rows": null,
            "height": null,
            "justify_content": null,
            "justify_items": null,
            "left": null,
            "margin": null,
            "max_height": null,
            "max_width": null,
            "min_height": null,
            "min_width": null,
            "object_fit": null,
            "object_position": null,
            "order": null,
            "overflow": null,
            "overflow_x": null,
            "overflow_y": null,
            "padding": null,
            "right": null,
            "top": null,
            "visibility": null,
            "width": null
          }
        },
        "67fb64ba2b754b349edbd26f26619cae": {
          "model_module": "@jupyter-widgets/base",
          "model_name": "LayoutModel",
          "model_module_version": "1.2.0",
          "state": {
            "_model_module": "@jupyter-widgets/base",
            "_model_module_version": "1.2.0",
            "_model_name": "LayoutModel",
            "_view_count": null,
            "_view_module": "@jupyter-widgets/base",
            "_view_module_version": "1.2.0",
            "_view_name": "LayoutView",
            "align_content": null,
            "align_items": null,
            "align_self": null,
            "border": null,
            "bottom": null,
            "display": null,
            "flex": null,
            "flex_flow": null,
            "grid_area": null,
            "grid_auto_columns": null,
            "grid_auto_flow": null,
            "grid_auto_rows": null,
            "grid_column": null,
            "grid_gap": null,
            "grid_row": null,
            "grid_template_areas": null,
            "grid_template_columns": null,
            "grid_template_rows": null,
            "height": null,
            "justify_content": null,
            "justify_items": null,
            "left": null,
            "margin": null,
            "max_height": null,
            "max_width": null,
            "min_height": null,
            "min_width": null,
            "object_fit": null,
            "object_position": null,
            "order": null,
            "overflow": null,
            "overflow_x": null,
            "overflow_y": null,
            "padding": null,
            "right": null,
            "top": null,
            "visibility": null,
            "width": null
          }
        },
        "092955ee4a2848dba069dfafab128a3e": {
          "model_module": "@jupyter-widgets/controls",
          "model_name": "DescriptionStyleModel",
          "model_module_version": "1.5.0",
          "state": {
            "_model_module": "@jupyter-widgets/controls",
            "_model_module_version": "1.5.0",
            "_model_name": "DescriptionStyleModel",
            "_view_count": null,
            "_view_module": "@jupyter-widgets/base",
            "_view_module_version": "1.2.0",
            "_view_name": "StyleView",
            "description_width": ""
          }
        },
        "2dbc4fbd0a444d6b92059a0f29b35522": {
          "model_module": "@jupyter-widgets/base",
          "model_name": "LayoutModel",
          "model_module_version": "1.2.0",
          "state": {
            "_model_module": "@jupyter-widgets/base",
            "_model_module_version": "1.2.0",
            "_model_name": "LayoutModel",
            "_view_count": null,
            "_view_module": "@jupyter-widgets/base",
            "_view_module_version": "1.2.0",
            "_view_name": "LayoutView",
            "align_content": null,
            "align_items": null,
            "align_self": null,
            "border": null,
            "bottom": null,
            "display": null,
            "flex": null,
            "flex_flow": null,
            "grid_area": null,
            "grid_auto_columns": null,
            "grid_auto_flow": null,
            "grid_auto_rows": null,
            "grid_column": null,
            "grid_gap": null,
            "grid_row": null,
            "grid_template_areas": null,
            "grid_template_columns": null,
            "grid_template_rows": null,
            "height": null,
            "justify_content": null,
            "justify_items": null,
            "left": null,
            "margin": null,
            "max_height": null,
            "max_width": null,
            "min_height": null,
            "min_width": null,
            "object_fit": null,
            "object_position": null,
            "order": null,
            "overflow": null,
            "overflow_x": null,
            "overflow_y": null,
            "padding": null,
            "right": null,
            "top": null,
            "visibility": null,
            "width": "20px"
          }
        },
        "f15a2b78386f4e818359eb1575661891": {
          "model_module": "@jupyter-widgets/controls",
          "model_name": "ProgressStyleModel",
          "model_module_version": "1.5.0",
          "state": {
            "_model_module": "@jupyter-widgets/controls",
            "_model_module_version": "1.5.0",
            "_model_name": "ProgressStyleModel",
            "_view_count": null,
            "_view_module": "@jupyter-widgets/base",
            "_view_module_version": "1.2.0",
            "_view_name": "StyleView",
            "bar_color": null,
            "description_width": ""
          }
        },
        "0b6fec8d17ab4e1d9a6a2606dc3c6299": {
          "model_module": "@jupyter-widgets/base",
          "model_name": "LayoutModel",
          "model_module_version": "1.2.0",
          "state": {
            "_model_module": "@jupyter-widgets/base",
            "_model_module_version": "1.2.0",
            "_model_name": "LayoutModel",
            "_view_count": null,
            "_view_module": "@jupyter-widgets/base",
            "_view_module_version": "1.2.0",
            "_view_name": "LayoutView",
            "align_content": null,
            "align_items": null,
            "align_self": null,
            "border": null,
            "bottom": null,
            "display": null,
            "flex": null,
            "flex_flow": null,
            "grid_area": null,
            "grid_auto_columns": null,
            "grid_auto_flow": null,
            "grid_auto_rows": null,
            "grid_column": null,
            "grid_gap": null,
            "grid_row": null,
            "grid_template_areas": null,
            "grid_template_columns": null,
            "grid_template_rows": null,
            "height": null,
            "justify_content": null,
            "justify_items": null,
            "left": null,
            "margin": null,
            "max_height": null,
            "max_width": null,
            "min_height": null,
            "min_width": null,
            "object_fit": null,
            "object_position": null,
            "order": null,
            "overflow": null,
            "overflow_x": null,
            "overflow_y": null,
            "padding": null,
            "right": null,
            "top": null,
            "visibility": null,
            "width": null
          }
        },
        "5255ab82924944bba12afb561267bf46": {
          "model_module": "@jupyter-widgets/controls",
          "model_name": "DescriptionStyleModel",
          "model_module_version": "1.5.0",
          "state": {
            "_model_module": "@jupyter-widgets/controls",
            "_model_module_version": "1.5.0",
            "_model_name": "DescriptionStyleModel",
            "_view_count": null,
            "_view_module": "@jupyter-widgets/base",
            "_view_module_version": "1.2.0",
            "_view_name": "StyleView",
            "description_width": ""
          }
        }
      }
    }
  },
  "nbformat": 4,
  "nbformat_minor": 0
}